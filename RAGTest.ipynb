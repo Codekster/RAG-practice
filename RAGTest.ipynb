{
  "nbformat": 4,
  "nbformat_minor": 0,
  "metadata": {
    "colab": {
      "provenance": [],
      "authorship_tag": "ABX9TyMpEOGwnDThkuAQX3dVi7pR",
      "include_colab_link": true
    },
    "kernelspec": {
      "name": "python3",
      "display_name": "Python 3"
    },
    "language_info": {
      "name": "python"
    }
  },
  "cells": [
    {
      "cell_type": "markdown",
      "metadata": {
        "id": "view-in-github",
        "colab_type": "text"
      },
      "source": [
        "<a href=\"https://colab.research.google.com/github/Codekster/RAG-practice/blob/main/RAGTest.ipynb\" target=\"_parent\"><img src=\"https://colab.research.google.com/assets/colab-badge.svg\" alt=\"Open In Colab\"/></a>"
      ]
    },
    {
      "cell_type": "code",
      "execution_count": null,
      "metadata": {
        "id": "y9silSKZ1yE9"
      },
      "outputs": [],
      "source": [
        "!pip install langchain_community langchainhub chromadb langchain langchain-openai\n"
      ]
    },
    {
      "cell_type": "code",
      "metadata": {
        "id": "642c3ba8"
      },
      "source": [
        "!pip install langchain_google_genai"
      ],
      "execution_count": null,
      "outputs": []
    },
    {
      "cell_type": "code",
      "metadata": {
        "colab": {
          "base_uri": "https://localhost:8080/"
        },
        "id": "3ddcf1b2",
        "outputId": "19feb30d-b6d7-4c8c-fe76-c8d82c63f13d"
      },
      "source": [
        "from google.colab import userdata\n",
        "import os\n",
        "\n",
        "# Assuming your Gemini API key is stored as 'GOOGLE_API_KEY' in Colab secrets\n",
        "gemini_api_key = userdata.get('Googlekey')\n",
        "os.environ['GOOGLE_API_KEY'] = gemini_api_key\n",
        "\n",
        "print(\"Gemini API key has been set as an environment variable.\")"
      ],
      "execution_count": 36,
      "outputs": [
        {
          "output_type": "stream",
          "name": "stdout",
          "text": [
            "Gemini API key has been set as an environment variable.\n"
          ]
        }
      ]
    },
    {
      "cell_type": "code",
      "source": [
        "import bs4\n",
        "from langchain_community.document_loaders import WebBaseLoader\n",
        "\n",
        "page_url = [\"https://en.wikipedia.org/wiki/World_War_II\"]\n",
        "\n",
        "loader = WebBaseLoader(web_paths=page_url)\n",
        "docs = []\n",
        "async for doc in loader.alazy_load():\n",
        "    docs.append(doc)\n",
        "\n",
        "print(f\"Fetched {len(docs)} documents\")"
      ],
      "metadata": {
        "colab": {
          "base_uri": "https://localhost:8080/"
        },
        "id": "6OEyYDN_sOok",
        "outputId": "c732f5c6-c9b0-4bc5-ab52-88946a5ad00b"
      },
      "execution_count": 37,
      "outputs": [
        {
          "output_type": "stream",
          "name": "stderr",
          "text": [
            "Fetching pages: 100%|##########| 1/1 [00:00<00:00,  4.86it/s]\n"
          ]
        },
        {
          "output_type": "stream",
          "name": "stdout",
          "text": [
            "Fetched 1 documents\n"
          ]
        }
      ]
    },
    {
      "cell_type": "code",
      "source": [
        "from langchain_text_splitters import RecursiveCharacterTextSplitter\n",
        "\n",
        "# Load example document\n",
        "\n",
        "\n",
        "text_splitter = RecursiveCharacterTextSplitter(\n",
        "    # Set a really small chunk size, just to show.\n",
        "    chunk_size=3000,\n",
        "    chunk_overlap=300,\n",
        "    length_function=len,\n",
        "    is_separator_regex=False,\n",
        ")\n",
        "texts = text_splitter.split_documents(docs)\n",
        "print(texts[0])\n",
        "print(texts[1])\n"
      ],
      "metadata": {
        "id": "_mKLDejjsccI"
      },
      "execution_count": null,
      "outputs": []
    },
    {
      "cell_type": "code",
      "source": [],
      "metadata": {
        "id": "zDzb95rlsm3G"
      },
      "execution_count": null,
      "outputs": []
    },
    {
      "cell_type": "code",
      "metadata": {
        "colab": {
          "base_uri": "https://localhost:8080/"
        },
        "id": "8a3d78cf",
        "outputId": "37b7cc52-32ad-464c-e4d8-8f307bc7878d"
      },
      "source": [
        "from langchain_google_genai import GoogleGenerativeAIEmbeddings\n",
        "from langchain.vectorstores import Chroma\n",
        "import os\n",
        "\n",
        "# Ensure GOOGLE_API_KEY is set from the previous cell\n",
        "if 'GOOGLE_API_KEY' not in os.environ:\n",
        "    print(\"GOOGLE_API_KEY not set. Please run the cell to set the environment variable.\")\n",
        "else:\n",
        "    vectorstore = Chroma.from_documents(documents=texts, embedding=GoogleGenerativeAIEmbeddings(model=\"models/embedding-001\"))\n",
        "    print(\"Embeddings created and stored in Chroma.\")"
      ],
      "execution_count": 39,
      "outputs": [
        {
          "output_type": "stream",
          "name": "stdout",
          "text": [
            "Embeddings created and stored in Chroma.\n"
          ]
        }
      ]
    },
    {
      "cell_type": "code",
      "source": [
        "retriever=vectorstore.as_retriever()"
      ],
      "metadata": {
        "id": "ZEkqpVI8tGmL"
      },
      "execution_count": 41,
      "outputs": []
    },
    {
      "cell_type": "code",
      "source": [
        "from langchain import hub\n",
        "prompt=hub.pull(\"rlm/rag-prompt\")"
      ],
      "metadata": {
        "colab": {
          "base_uri": "https://localhost:8080/"
        },
        "id": "62DKrmolvImS",
        "outputId": "f53ee028-041a-40a5-fd14-0b5b865158d1"
      },
      "execution_count": 42,
      "outputs": [
        {
          "output_type": "stream",
          "name": "stderr",
          "text": [
            "/usr/local/lib/python3.11/dist-packages/langsmith/client.py:272: LangSmithMissingAPIKeyWarning: API key must be provided when using hosted LangSmith API\n",
            "  warnings.warn(\n"
          ]
        }
      ]
    },
    {
      "cell_type": "code",
      "source": [
        "from langchain_google_genai import ChatGoogleGenerativeAI\n",
        "import os\n",
        "\n",
        "# Ensure GOOGLE_API_KEY is set\n",
        "if 'GOOGLE_API_KEY' not in os.environ:\n",
        "    print(\"GOOGLE_API_KEY not set. Please run the cell to set the environment variable.\")\n",
        "else:\n",
        "    llm = ChatGoogleGenerativeAI(model=\"models/gemini-2.5-flash\", temperature=0.5)\n",
        "    print(\"Gemini LLM instance created.\")"
      ],
      "metadata": {
        "colab": {
          "base_uri": "https://localhost:8080/"
        },
        "id": "CUSkCs0_viY9",
        "outputId": "38820508-46e5-4f01-b2b3-bf75c355a232"
      },
      "execution_count": 43,
      "outputs": [
        {
          "output_type": "stream",
          "name": "stdout",
          "text": [
            "Gemini LLM instance created.\n"
          ]
        }
      ]
    },
    {
      "cell_type": "code",
      "source": [
        "def promptJoin(prompt):\n",
        "  return \"\\n\".join(doc.page_content for doc in prompt )"
      ],
      "metadata": {
        "id": "v70tkl1Px-N9"
      },
      "execution_count": 44,
      "outputs": []
    },
    {
      "cell_type": "code",
      "source": [
        "from langchain_core.runnables import RunnablePassthrough\n",
        "from langchain_core.output_parsers import StrOutputParser\n",
        "rag_chain=({\"context\":retriever | promptJoin ,\"question\":RunnablePassthrough()}\n",
        "| prompt\n",
        "| llm\n",
        "| StrOutputParser()\n",
        ")"
      ],
      "metadata": {
        "id": "F0uYg6VOxjEL"
      },
      "execution_count": 32,
      "outputs": []
    },
    {
      "cell_type": "code",
      "source": [
        "rag_chain.invoke(\"When did the war start?\")"
      ],
      "metadata": {
        "colab": {
          "base_uri": "https://localhost:8080/",
          "height": 70
        },
        "id": "OFYzvIrY2Z-R",
        "outputId": "3de29604-74ee-4402-9ee2-326d00fdc290"
      },
      "execution_count": 49,
      "outputs": [
        {
          "output_type": "execute_result",
          "data": {
            "text/plain": [
              "'The provided context is a table of contents and further reading for a Wikipedia article on World War II. While it mentions \"Start and end dates\" as a section, the actual dates are not present in the provided text. Therefore, I don\\'t know the answer.'"
            ],
            "application/vnd.google.colaboratory.intrinsic+json": {
              "type": "string"
            }
          },
          "metadata": {},
          "execution_count": 49
        }
      ]
    }
  ]
}